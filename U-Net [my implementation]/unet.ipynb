{
 "cells": [
  {
   "cell_type": "markdown",
   "id": "89d6a0a7",
   "metadata": {
    "papermill": {
     "duration": 0.004865,
     "end_time": "2025-02-04T07:56:27.831977",
     "exception": false,
     "start_time": "2025-02-04T07:56:27.827112",
     "status": "completed"
    },
    "tags": []
   },
   "source": [
    "# Implementation of U-Net in pytorch\n",
    "## Import Packages"
   ]
  },
  {
   "cell_type": "code",
   "execution_count": 1,
   "id": "d75477a7",
   "metadata": {
    "_cell_guid": "b1076dfc-b9ad-4769-8c92-a6c4dae69d19",
    "_uuid": "8f2839f25d086af736a60e9eeb907d3b93b6e0e5",
    "execution": {
     "iopub.execute_input": "2025-02-04T07:56:27.840813Z",
     "iopub.status.busy": "2025-02-04T07:56:27.840461Z",
     "iopub.status.idle": "2025-02-04T07:56:33.962483Z",
     "shell.execute_reply": "2025-02-04T07:56:33.961105Z"
    },
    "papermill": {
     "duration": 6.129028,
     "end_time": "2025-02-04T07:56:33.964979",
     "exception": false,
     "start_time": "2025-02-04T07:56:27.835951",
     "status": "completed"
    },
    "tags": []
   },
   "outputs": [],
   "source": [
    "import torch\n",
    "import torch.nn as nn\n",
    "import torch.nn.functional as F\n",
    "import torch.optim as optim\n",
    "from torch.utils.data import DataLoader\n",
    "import torchvision.datasets as datasets\n",
    "import torchvision.transforms as transforms"
   ]
  },
  {
   "cell_type": "markdown",
   "id": "d1109117",
   "metadata": {
    "papermill": {
     "duration": 0.002919,
     "end_time": "2025-02-04T07:56:33.971534",
     "exception": false,
     "start_time": "2025-02-04T07:56:33.968615",
     "status": "completed"
    },
    "tags": []
   },
   "source": [
    "## Set device to CUDA if available"
   ]
  },
  {
   "cell_type": "code",
   "execution_count": 2,
   "id": "318783ee",
   "metadata": {
    "execution": {
     "iopub.execute_input": "2025-02-04T07:56:33.980265Z",
     "iopub.status.busy": "2025-02-04T07:56:33.979675Z",
     "iopub.status.idle": "2025-02-04T07:56:33.990663Z",
     "shell.execute_reply": "2025-02-04T07:56:33.989436Z"
    },
    "papermill": {
     "duration": 0.017768,
     "end_time": "2025-02-04T07:56:33.992574",
     "exception": false,
     "start_time": "2025-02-04T07:56:33.974806",
     "status": "completed"
    },
    "tags": []
   },
   "outputs": [
    {
     "name": "stdout",
     "output_type": "stream",
     "text": [
      "Cuda unavailable.\n"
     ]
    }
   ],
   "source": [
    "device = torch.device('cuda' if torch.cuda.is_available() else 'cpu')\n",
    "\n",
    "if device == 'cuda':\n",
    "    print(\"Cuda available: \" + torch.cuda.get_device_name())\n",
    "else:\n",
    "    print(\"Cuda unavailable.\")\n"
   ]
  },
  {
   "cell_type": "markdown",
   "id": "28c61065",
   "metadata": {
    "papermill": {
     "duration": 0.003472,
     "end_time": "2025-02-04T07:56:33.999436",
     "exception": false,
     "start_time": "2025-02-04T07:56:33.995964",
     "status": "completed"
    },
    "tags": []
   },
   "source": [
    "## Define basic block of U-Net"
   ]
  },
  {
   "cell_type": "code",
   "execution_count": 3,
   "id": "66bdb506",
   "metadata": {
    "execution": {
     "iopub.execute_input": "2025-02-04T07:56:34.008461Z",
     "iopub.status.busy": "2025-02-04T07:56:34.008054Z",
     "iopub.status.idle": "2025-02-04T07:56:34.016964Z",
     "shell.execute_reply": "2025-02-04T07:56:34.015523Z"
    },
    "papermill": {
     "duration": 0.015339,
     "end_time": "2025-02-04T07:56:34.018802",
     "exception": false,
     "start_time": "2025-02-04T07:56:34.003463",
     "status": "completed"
    },
    "tags": []
   },
   "outputs": [],
   "source": [
    "class downConv(nn.Module):\n",
    "    def __init__(self, in_c, out_c, kernel_size=3, padding=0, stride=1,):\n",
    "        super().__init__()\n",
    "\n",
    "        self.conv = nn.Sequential(\n",
    "            nn.Conv2d(in_c, out_c, kernel_size=kernel_size, padding=padding, stride=stride,),\n",
    "            nn.BatchNorm2d(out_c),\n",
    "            nn.ReLU(inplace=True),\n",
    "            nn.Conv2d(out_c, out_c, kernel_size=kernel_size, padding=padding, stride=stride,),\n",
    "            nn.BatchNorm2d(out_c),\n",
    "            nn.ReLU(inplace=True),\n",
    "        )\n",
    "\n",
    "    def forward(self, x):\n",
    "        return self.conv(x)\n",
    "\n",
    "\n",
    "\n",
    "class upConv(nn.Module):\n",
    "    def __init__(self, in_c, out_c, kernel_size=3, padding=0, stride=1,):\n",
    "        super().__init__()\n",
    "\n",
    "        self.conv = nn.Sequential(\n",
    "            nn.Conv2d(in_c, in_c // 2, kernel_size=kernel_size, padding=padding, stride=stride,),\n",
    "            nn.BatchNorm2d(in_c // 2),\n",
    "            nn.ReLU(inplace=True),\n",
    "            nn.Conv2d(in_c // 2, out_c, kernel_size=kernel_size, padding=padding, stride=stride,),\n",
    "            nn.BatchNorm2d(out_c),\n",
    "            nn.ReLU(inplace=True),\n",
    "        )\n",
    "\n",
    "    def forward(self, x):\n",
    "        return self.conv(x)"
   ]
  },
  {
   "cell_type": "markdown",
   "id": "27eeff38",
   "metadata": {
    "papermill": {
     "duration": 0.002923,
     "end_time": "2025-02-04T07:56:34.025129",
     "exception": false,
     "start_time": "2025-02-04T07:56:34.022206",
     "status": "completed"
    },
    "tags": []
   },
   "source": [
    "## Define U-Net"
   ]
  },
  {
   "cell_type": "code",
   "execution_count": 4,
   "id": "0af043c7",
   "metadata": {
    "execution": {
     "iopub.execute_input": "2025-02-04T07:56:34.032735Z",
     "iopub.status.busy": "2025-02-04T07:56:34.032337Z",
     "iopub.status.idle": "2025-02-04T07:56:34.039305Z",
     "shell.execute_reply": "2025-02-04T07:56:34.038155Z"
    },
    "papermill": {
     "duration": 0.01287,
     "end_time": "2025-02-04T07:56:34.041168",
     "exception": false,
     "start_time": "2025-02-04T07:56:34.028298",
     "status": "completed"
    },
    "tags": []
   },
   "outputs": [],
   "source": [
    "class unet_encoder(nn.Module):\n",
    "    def __init__(self):\n",
    "        super().__init__()\n",
    "\n",
    "        self.block1 = downConv(in_c=3, out_c=64)\n",
    "        self.block2 = downConv(in_c=64, out_c=128)\n",
    "        self.block3 = downConv(in_c=128, out_c=256)\n",
    "        self.block4 = downConv(in_c=256, out_c=512)\n",
    "        self.block5 = downConv(in_c=512, out_c=1024)\n",
    "        \n",
    "        self.pool = nn.MaxPool2d(2)\n",
    "\n",
    "    def forward(self, x):\n",
    "        x1 = self.block1(x)\n",
    "        print(x1.shape)\n",
    "        x2 = self.block2(self.pool(x1))\n",
    "        print(x2.shape)\n",
    "        x3 = self.block3(self.pool(x2))\n",
    "        print(x3.shape)\n",
    "        x4 = self.block4(self.pool(x3))\n",
    "        print(x4.shape)\n",
    "        x5 = self.block5(self.pool(x4))\n",
    "        print(x5.shape)\n",
    "\n",
    "        return [x1, x2, x3, x4, x5]"
   ]
  },
  {
   "cell_type": "code",
   "execution_count": 5,
   "id": "47c1e9d1",
   "metadata": {
    "execution": {
     "iopub.execute_input": "2025-02-04T07:56:34.049256Z",
     "iopub.status.busy": "2025-02-04T07:56:34.048833Z",
     "iopub.status.idle": "2025-02-04T07:56:34.060069Z",
     "shell.execute_reply": "2025-02-04T07:56:34.058609Z"
    },
    "papermill": {
     "duration": 0.01741,
     "end_time": "2025-02-04T07:56:34.061892",
     "exception": false,
     "start_time": "2025-02-04T07:56:34.044482",
     "status": "completed"
    },
    "tags": []
   },
   "outputs": [],
   "source": [
    "class unet_decoder(nn.Module):\n",
    "    def __init__(self):\n",
    "        super().__init__()\n",
    "\n",
    "        self.upconv1 = nn.ConvTranspose2d(in_channels=1024, out_channels=512, kernel_size=2, stride=2,)\n",
    "        self.upconv2 = nn.ConvTranspose2d(in_channels=512, out_channels=256, kernel_size=2, stride=2,)\n",
    "        self.upconv3 = nn.ConvTranspose2d(in_channels=256, out_channels=128, kernel_size=2, stride=2,)\n",
    "        self.upconv4 = nn.ConvTranspose2d(in_channels=128, out_channels=64, kernel_size=2, stride=2,)\n",
    "        \n",
    "        self.block1 = upConv(in_c=1024, out_c=512)\n",
    "        self.block2 = upConv(in_c=512, out_c=256)\n",
    "        self.block3 = upConv(in_c=256, out_c=128)\n",
    "        self.block4 = upConv(in_c=128, out_c=64)\n",
    "\n",
    "    def forward(self, x_set):\n",
    "        x1_1, x1_2, x1_3, x1_4, x1_5 = x_set\n",
    "        \n",
    "        x2_1 = self.upconv1(x1_5)\n",
    "        x1_4 = x1_4[:, :, :x2_1.shape[2], :x2_1.shape[3]]\n",
    "        \n",
    "        x2_1 = torch.cat([x2_1, x1_4], dim=1)\n",
    "        x2_1 = self.block1(x2_1)\n",
    "        print(x2_1.shape)\n",
    "        \n",
    "        x2_2 = self.upconv2(x2_1)\n",
    "        x1_3 = x1_3[:, :, :x2_2.shape[2], :x2_2.shape[3]]\n",
    "        \n",
    "        x2_2 = torch.cat([x2_2, x1_3], dim=1)\n",
    "        x2_2 = self.block2(x2_2)\n",
    "        print(x2_2.shape)\n",
    "\n",
    "        x2_3 = self.upconv3(x2_2)\n",
    "        x1_2 = x1_2[:, :, :x2_3.shape[2], :x2_3.shape[3]]\n",
    "        \n",
    "        x2_3 = torch.cat([x2_3, x1_2], dim=1)\n",
    "        x2_3 = self.block3(x2_3)\n",
    "        print(x2_3.shape)\n",
    "\n",
    "        x2_4 = self.upconv4(x2_3)\n",
    "        x1_1 = x1_1[:, :, :x2_4.shape[2], :x2_4.shape[3]]\n",
    "        \n",
    "        x2_4 = torch.cat([x2_4, x1_1], dim=1)\n",
    "        x2_4 = self.block4(x2_4)\n",
    "        print(x2_4.shape)\n",
    "        \n",
    "        return x2_4"
   ]
  },
  {
   "cell_type": "code",
   "execution_count": 6,
   "id": "b2e000a3",
   "metadata": {
    "execution": {
     "iopub.execute_input": "2025-02-04T07:56:34.071310Z",
     "iopub.status.busy": "2025-02-04T07:56:34.070769Z",
     "iopub.status.idle": "2025-02-04T07:56:34.078233Z",
     "shell.execute_reply": "2025-02-04T07:56:34.076737Z"
    },
    "papermill": {
     "duration": 0.015323,
     "end_time": "2025-02-04T07:56:34.080601",
     "exception": false,
     "start_time": "2025-02-04T07:56:34.065278",
     "status": "completed"
    },
    "tags": []
   },
   "outputs": [],
   "source": [
    "class u_net(nn.Module):\n",
    "    def __init__(self):\n",
    "        super().__init__()\n",
    "\n",
    "        self.part1 = unet_encoder()\n",
    "        self.part2 = unet_decoder()\n",
    "\n",
    "        self.seg_head = nn.Sequential(\n",
    "            nn.Conv2d(64, 2, kernel_size=1),\n",
    "            nn.Sigmoid()\n",
    "        )\n",
    "\n",
    "    def forward(self, x):\n",
    "        x1 = self.part1(x)\n",
    "        x2 = self.part2(x1)\n",
    "\n",
    "        x = self.seg_head(x2)\n",
    "\n",
    "        return x"
   ]
  },
  {
   "cell_type": "code",
   "execution_count": 7,
   "id": "33de8880",
   "metadata": {
    "execution": {
     "iopub.execute_input": "2025-02-04T07:56:34.091163Z",
     "iopub.status.busy": "2025-02-04T07:56:34.090523Z",
     "iopub.status.idle": "2025-02-04T07:56:38.752663Z",
     "shell.execute_reply": "2025-02-04T07:56:38.751356Z"
    },
    "papermill": {
     "duration": 4.669127,
     "end_time": "2025-02-04T07:56:38.754568",
     "exception": false,
     "start_time": "2025-02-04T07:56:34.085441",
     "status": "completed"
    },
    "tags": []
   },
   "outputs": [
    {
     "name": "stdout",
     "output_type": "stream",
     "text": [
      "torch.Size([1, 64, 568, 568])\n",
      "torch.Size([1, 128, 280, 280])\n",
      "torch.Size([1, 256, 136, 136])\n",
      "torch.Size([1, 512, 64, 64])\n",
      "torch.Size([1, 1024, 28, 28])\n",
      "torch.Size([1, 512, 52, 52])\n",
      "torch.Size([1, 256, 100, 100])\n",
      "torch.Size([1, 128, 196, 196])\n",
      "torch.Size([1, 64, 388, 388])\n",
      "Output Shape: torch.Size([1, 2, 388, 388])\n"
     ]
    }
   ],
   "source": [
    "if __name__ == '__main__': \n",
    "    model = u_net()\n",
    "    x = torch.randn(1, 3, 572, 572)\n",
    "    output = model(x)\n",
    "    print(\"Output Shape:\", output.shape)\n",
    "    "
   ]
  },
  {
   "cell_type": "code",
   "execution_count": null,
   "id": "e764a124",
   "metadata": {
    "papermill": {
     "duration": 0.004165,
     "end_time": "2025-02-04T07:56:38.763562",
     "exception": false,
     "start_time": "2025-02-04T07:56:38.759397",
     "status": "completed"
    },
    "tags": []
   },
   "outputs": [],
   "source": []
  }
 ],
 "metadata": {
  "kaggle": {
   "accelerator": "none",
   "dataSources": [
    {
     "datasetId": 3887050,
     "sourceId": 7309233,
     "sourceType": "datasetVersion"
    }
   ],
   "dockerImageVersionId": 30822,
   "isGpuEnabled": false,
   "isInternetEnabled": true,
   "language": "python",
   "sourceType": "notebook"
  },
  "kernelspec": {
   "display_name": "Python 3",
   "language": "python",
   "name": "python3"
  },
  "language_info": {
   "codemirror_mode": {
    "name": "ipython",
    "version": 3
   },
   "file_extension": ".py",
   "mimetype": "text/x-python",
   "name": "python",
   "nbconvert_exporter": "python",
   "pygments_lexer": "ipython3",
   "version": "3.10.12"
  },
  "papermill": {
   "default_parameters": {},
   "duration": 15.753278,
   "end_time": "2025-02-04T07:56:40.593957",
   "environment_variables": {},
   "exception": null,
   "input_path": "__notebook__.ipynb",
   "output_path": "__notebook__.ipynb",
   "parameters": {},
   "start_time": "2025-02-04T07:56:24.840679",
   "version": "2.6.0"
  }
 },
 "nbformat": 4,
 "nbformat_minor": 5
}
