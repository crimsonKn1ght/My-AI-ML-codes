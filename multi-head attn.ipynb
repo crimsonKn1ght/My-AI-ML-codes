{
 "cells": [
  {
   "cell_type": "code",
   "execution_count": 4,
   "id": "363d274a-bb9b-4a24-a93e-46a164005804",
   "metadata": {},
   "outputs": [],
   "source": [
    "import torch\n",
    "import torch.nn as nn"
   ]
  },
  {
   "cell_type": "code",
   "execution_count": null,
   "id": "c8add00d-c0a0-4373-82e0-a1e645aeedf2",
   "metadata": {},
   "outputs": [],
   "source": [
    "class multiHeadAttn(nn.Module):\n",
    "    def __init__(self, tot_d, tot_h):\n",
    "        super().__init__()\n",
    "\n",
    "        self.tot_d = tot_d\n",
    "        self.tot_h = tot_h\n",
    "        self.d_h = tot_d / tot_h\n",
    "\n",
    "        self.q = nn.Linear(self.d_h, self.d_h)\n",
    "        self.k = nn.Linear(self.d_h, self.d_h)\n",
    "        self.v = nn.Linear(self.d_h, self.d_h)\n",
    "\n",
    "    def scaled_dot_product(self, q, k, v, mask = None):\n",
    "        attn_scores = torch.matmul(q, k.transpose(-2, -1)) / math.sqrt(self.d_h)\n",
    "\n",
    "        if mask is not None:\n",
    "            attn_scores = attn_scores.masked_fill(mask == 0, -1e9)\n",
    "\n",
    "        attn_probs = F.softmax(attn_scores, -1)\n",
    "        output = torch.matmul(attn_probs, v)\n",
    "\n",
    "        return output\n",
    "\n",
    "    def split_heads(self, x):\n",
    "        batch_size, num_heads, d_model = x.size()\n",
    "        return x.view(batch_size, num_heads, self.tot_h, self.d_h).transpose(1, 2)\n",
    "\n",
    "    def combine_heads(self, x):\n",
    "        batch_size, num_heads, seq_length, d_k = x.size()\n",
    "        return x.transpose(1, 2).contiguous().view(batch_size, seq_length, self.tot_d)\n",
    "        \n",
    "    def forward(self, (q, k, v, mask=None):\n",
    "        q = self.split_heads(self.q(q))\n",
    "        k = self.split_heads(self.k(k))\n",
    "        v = self.split_heads(self.v(v))\n",
    "        \n",
    "        attn_output = self.scaled_dot_product_attention(q, k, v, mask)\n",
    "        output = self.o(self.combine_heads(attn_output))\n",
    "        return output\n"
   ]
  },
  {
   "cell_type": "code",
   "execution_count": null,
   "id": "18e5c4fc-166a-4783-8a29-d3e056b8707c",
   "metadata": {},
   "outputs": [],
   "source": [
    "d_model = 8\n",
    "num_heads = 4\n",
    "query_seq_length = 5\n",
    "ke_seq_length = 6\n",
    "batch_size = 1\n",
    "\n",
    "mha = MultiHeadAttention(d_model, num_heads)\n",
    "\n",
    "# Create dummy input tensors\n",
    "Q = torch.randn(batch_size, query_seq_length, d_model)\n",
    "K =  V = torch.randn(batch_size, ke_seq_length, d_model)\n",
    "\n",
    "# Create a dummy mask (optional)\n",
    "mask = torch.ones(batch_size, 1, query_seq_length, ke_seq_length)\n",
    "\n",
    "# Forward pass\n",
    "output = mha(Q, K, V, mask)"
   ]
  }
 ],
 "metadata": {
  "kernelspec": {
   "display_name": "Python 3 (ipykernel)",
   "language": "python",
   "name": "python3"
  },
  "language_info": {
   "codemirror_mode": {
    "name": "ipython",
    "version": 3
   },
   "file_extension": ".py",
   "mimetype": "text/x-python",
   "name": "python",
   "nbconvert_exporter": "python",
   "pygments_lexer": "ipython3",
   "version": "3.11.9"
  }
 },
 "nbformat": 4,
 "nbformat_minor": 5
}
